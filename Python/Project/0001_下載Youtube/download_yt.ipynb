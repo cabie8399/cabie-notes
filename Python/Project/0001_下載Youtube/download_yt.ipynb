{
 "cells": [
  {
   "cell_type": "markdown",
   "metadata": {},
   "source": [
    "# 讀取 Youtube 影片資訊"
   ]
  },
  {
   "cell_type": "code",
   "execution_count": 1,
   "metadata": {},
   "outputs": [
    {
     "name": "stdout",
     "output_type": "stream",
     "text": [
      "Baby Shark\n",
      "116\n",
      "Pinkfong\n",
      "https://www.youtube.com/channel/UCcdwLMPsaU2ezNSJU1nFoBQ\n",
      "https://i.ytimg.com/vi/R93ce4FZGbc/hq720.jpg?sqp=-oaymwEXCNUGEOADIAQqCwjVARCqCBh4INgESFo&rs=AOn4CLAhmlP1_7YTZPxmSeoXHyFCYuWfLQ\n",
      "755831197\n"
     ]
    }
   ],
   "source": [
    "import ssl\n",
    "from pytube import YouTube # type: ignore\n",
    "\n",
    "# 原本 pytube 可以正常使用，但因為 Youtube API 更新安全性原則，所以原本程式碼都需要加入下面這段 ssl，不然就會拋出錯誤訊息\n",
    "ssl._create_default_https_context = ssl._create_stdlib_context\n",
    "\n",
    "yt = YouTube('https://www.youtube.com/watch?v=R93ce4FZGbc')   # baby shark 的音樂\n",
    "print(yt.title)           # 影片標題\n",
    "print(yt.length)          # 影片長度 ( 秒 )\n",
    "print(yt.author)          # 影片作者\n",
    "print(yt.channel_url)     # 影片作者頻道網址\n",
    "print(yt.thumbnail_url)   # 影片縮圖網址\n",
    "print(yt.views)           # 影片觀看數"
   ]
  },
  {
   "cell_type": "markdown",
   "metadata": {},
   "source": [
    "# 下載 Youtube 影片為 mp4\n",
    "\n",
    "- 使用 get_highest_resolution() 方法，下載最高畫質的影片。"
   ]
  },
  {
   "cell_type": "code",
   "execution_count": 4,
   "metadata": {},
   "outputs": [
    {
     "name": "stdout",
     "output_type": "stream",
     "text": [
      "download...\n",
      "Finished!\n"
     ]
    }
   ],
   "source": [
    "import ssl\n",
    "import os\n",
    "from pytube import YouTube\n",
    "ssl._create_default_https_context = ssl._create_stdlib_context\n",
    "\n",
    "download_path = 'C:/Users/arif1/Downloads'\n",
    "youtube_url = 'https://www.youtube.com/watch?v=Y8JFxS1HlDo&ab_channel=STARSHIP'\n",
    "\n",
    "os.chdir(download_path)\n",
    "yt = YouTube(youtube_url)\n",
    "print('download...')\n",
    "\n",
    "# get_highest_resolution : 下載的畫質\n",
    "# filename : 若沒設定就預設下載最高畫質\n",
    "# yt.streams.filter().get_highest_resolution('720p').download(filename='love dive.mp4')\n",
    "yt.streams.filter().get_highest_resolution().download()\n",
    "\n",
    "\n",
    "print('Finished!')"
   ]
  },
  {
   "cell_type": "markdown",
   "metadata": {},
   "source": [
    "# 影片支援哪些畫質"
   ]
  },
  {
   "cell_type": "code",
   "execution_count": 5,
   "metadata": {},
   "outputs": [
    {
     "name": "stdout",
     "output_type": "stream",
     "text": [
      "[<Stream: itag=\"18\" mime_type=\"video/mp4\" res=\"360p\" fps=\"24fps\" vcodec=\"avc1.42001E\" acodec=\"mp4a.40.2\" progressive=\"True\" type=\"video\">, <Stream: itag=\"313\" mime_type=\"video/webm\" res=\"2160p\" fps=\"24fps\" vcodec=\"vp9\" progressive=\"False\" type=\"video\">, <Stream: itag=\"271\" mime_type=\"video/webm\" res=\"1440p\" fps=\"24fps\" vcodec=\"vp9\" progressive=\"False\" type=\"video\">, <Stream: itag=\"137\" mime_type=\"video/mp4\" res=\"1080p\" fps=\"24fps\" vcodec=\"avc1.640028\" progressive=\"False\" type=\"video\">, <Stream: itag=\"248\" mime_type=\"video/webm\" res=\"1080p\" fps=\"24fps\" vcodec=\"vp9\" progressive=\"False\" type=\"video\">, <Stream: itag=\"136\" mime_type=\"video/mp4\" res=\"720p\" fps=\"24fps\" vcodec=\"avc1.4d401f\" progressive=\"False\" type=\"video\">, <Stream: itag=\"247\" mime_type=\"video/webm\" res=\"720p\" fps=\"24fps\" vcodec=\"vp9\" progressive=\"False\" type=\"video\">, <Stream: itag=\"135\" mime_type=\"video/mp4\" res=\"480p\" fps=\"24fps\" vcodec=\"avc1.4d401e\" progressive=\"False\" type=\"video\">, <Stream: itag=\"244\" mime_type=\"video/webm\" res=\"480p\" fps=\"24fps\" vcodec=\"vp9\" progressive=\"False\" type=\"video\">, <Stream: itag=\"134\" mime_type=\"video/mp4\" res=\"360p\" fps=\"24fps\" vcodec=\"avc1.4d401e\" progressive=\"False\" type=\"video\">, <Stream: itag=\"243\" mime_type=\"video/webm\" res=\"360p\" fps=\"24fps\" vcodec=\"vp9\" progressive=\"False\" type=\"video\">, <Stream: itag=\"133\" mime_type=\"video/mp4\" res=\"240p\" fps=\"24fps\" vcodec=\"avc1.4d4015\" progressive=\"False\" type=\"video\">, <Stream: itag=\"242\" mime_type=\"video/webm\" res=\"240p\" fps=\"24fps\" vcodec=\"vp9\" progressive=\"False\" type=\"video\">, <Stream: itag=\"160\" mime_type=\"video/mp4\" res=\"144p\" fps=\"24fps\" vcodec=\"avc1.4d400c\" progressive=\"False\" type=\"video\">, <Stream: itag=\"278\" mime_type=\"video/webm\" res=\"144p\" fps=\"24fps\" vcodec=\"vp9\" progressive=\"False\" type=\"video\">, <Stream: itag=\"139\" mime_type=\"audio/mp4\" abr=\"48kbps\" acodec=\"mp4a.40.5\" progressive=\"False\" type=\"audio\">, <Stream: itag=\"140\" mime_type=\"audio/mp4\" abr=\"128kbps\" acodec=\"mp4a.40.2\" progressive=\"False\" type=\"audio\">, <Stream: itag=\"249\" mime_type=\"audio/webm\" abr=\"50kbps\" acodec=\"opus\" progressive=\"False\" type=\"audio\">, <Stream: itag=\"250\" mime_type=\"audio/webm\" abr=\"70kbps\" acodec=\"opus\" progressive=\"False\" type=\"audio\">, <Stream: itag=\"251\" mime_type=\"audio/webm\" abr=\"160kbps\" acodec=\"opus\" progressive=\"False\" type=\"audio\">]\n"
     ]
    },
    {
     "name": "stderr",
     "output_type": "stream",
     "text": [
      "C:\\Users\\arif1\\AppData\\Local\\Temp\\ipykernel_13496\\487119078.py:10: DeprecationWarning: Call to deprecated function all (This object can be treated as a list, all() is useless).\n",
      "  print(yt.streams.all())\n"
     ]
    }
   ],
   "source": [
    "import ssl\n",
    "import os\n",
    "from pytube import YouTube\n",
    "ssl._create_default_https_context = ssl._create_stdlib_context\n",
    "\n",
    "download_path = 'C:/Users/arif1/Downloads'\n",
    "youtube_url = 'https://www.youtube.com/watch?v=Y8JFxS1HlDo&ab_channel=STARSHIP'\n",
    "\n",
    "yt = YouTube(youtube_url)\n",
    "print(yt.streams.all())"
   ]
  },
  {
   "cell_type": "markdown",
   "metadata": {},
   "source": [
    "# 回傳目前下載影片的進度"
   ]
  },
  {
   "cell_type": "code",
   "execution_count": 6,
   "metadata": {},
   "outputs": [
    {
     "name": "stdout",
     "output_type": "stream",
     "text": [
      "download...\n",
      "Finished!00\n"
     ]
    }
   ],
   "source": [
    "import ssl\n",
    "import os\n",
    "from pytube import YouTube\n",
    "ssl._create_default_https_context = ssl._create_stdlib_context\n",
    "\n",
    "download_path = 'C:/Users/arif1/Downloads'\n",
    "youtube_url = 'https://www.youtube.com/watch?v=Y8JFxS1HlDo&ab_channel=STARSHIP'\n",
    "\n",
    "def onProgress(stream, chunk, remains):\n",
    "    total = stream.filesize                     # 取得完整尺寸\n",
    "    percent = (total-remains) / total * 100     # 減去剩餘尺寸 ( 剩餘尺寸會抓取存取的檔案大小 )\n",
    "    print(f'下載中… {percent:05.2f}', end='\\r')  # 顯示進度，\\r 表示不換行，在同一行更新\n",
    "\n",
    "os.chdir(download_path)\n",
    "# on_progress_callback 參數等於 onProgress 函式\n",
    "yt = YouTube(youtube_url, on_progress_callback=onProgress)\n",
    "\n",
    "print('download...')\n",
    "# get_highest_resolution : 下載的畫質\n",
    "# filename : 若沒設定就預設下載最高畫質\n",
    "# yt.streams.filter().get_highest_resolution('720p').download(filename='love dive.mp4')\n",
    "yt.streams.filter().get_highest_resolution().download()\n",
    "print('Finished!')"
   ]
  },
  {
   "cell_type": "markdown",
   "metadata": {},
   "source": [
    "# 下載 Youtube 影片為 mp3"
   ]
  },
  {
   "cell_type": "code",
   "execution_count": 7,
   "metadata": {},
   "outputs": [
    {
     "name": "stdout",
     "output_type": "stream",
     "text": [
      "download...\n",
      "Finished!00\n"
     ]
    }
   ],
   "source": [
    "import ssl\n",
    "import os\n",
    "from pytube import YouTube\n",
    "ssl._create_default_https_context = ssl._create_stdlib_context\n",
    "\n",
    "download_path = 'C:/Users/arif1/Downloads'\n",
    "youtube_url = 'https://www.youtube.com/watch?v=Y8JFxS1HlDo&ab_channel=STARSHIP'\n",
    "\n",
    "def onProgress(stream, chunk, remains):\n",
    "    total = stream.filesize                     # 取得完整尺寸\n",
    "    percent = (total-remains) / total * 100     # 減去剩餘尺寸 ( 剩餘尺寸會抓取存取的檔案大小 )\n",
    "    print(f'下載中… {percent:05.2f}', end='\\r')  # 顯示進度，\\r 表示不換行，在同一行更新\n",
    "\n",
    "os.chdir(download_path)\n",
    "# on_progress_callback 參數等於 onProgress 函式\n",
    "yt = YouTube(youtube_url, on_progress_callback=onProgress)\n",
    "\n",
    "print('download...')\n",
    "yt.streams.filter().get_audio_only().download(filename='love dive.mp3')\n",
    "print('Finished!')"
   ]
  }
 ],
 "metadata": {
  "kernelspec": {
   "display_name": "base",
   "language": "python",
   "name": "python3"
  },
  "language_info": {
   "codemirror_mode": {
    "name": "ipython",
    "version": 3
   },
   "file_extension": ".py",
   "mimetype": "text/x-python",
   "name": "python",
   "nbconvert_exporter": "python",
   "pygments_lexer": "ipython3",
   "version": "3.11.7"
  }
 },
 "nbformat": 4,
 "nbformat_minor": 2
}
