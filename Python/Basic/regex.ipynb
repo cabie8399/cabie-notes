{
 "cells": [
  {
   "cell_type": "markdown",
   "metadata": {},
   "source": [
    "- https://www.youtube.com/watch?v=Y8JFxS1HlDo&ab_channel=STARSHIP\n",
    "- https://youtube.com/playlist?list=PLue_6sUfYykmTypJQeUJIb3qyzO2pjNAa&si=xH0gKhdOLav6HA3m"
   ]
  },
  {
   "cell_type": "code",
   "execution_count": 10,
   "metadata": {},
   "outputs": [
    {
     "data": {
      "text/plain": [
       "False"
      ]
     },
     "execution_count": 10,
     "metadata": {},
     "output_type": "execute_result"
    }
   ],
   "source": [
    "url1 = 'https://www.youtube.com/watch?v=Y8JFxS1HlDo&ab_channel=STARSHIP'\n",
    "url2 = 'https://youtube.com/playlist?list=PLue_6sUfYykmTypJQeUJIb3qyzO2pjNAa&si=xH0gKhdOLav6HA3m'\n",
    "\n",
    "def isPlaylist(url):\n",
    "    str = url.split(\"/\")[3].split(\"?\")[0]\n",
    "    if str=='playlist':\n",
    "        return True\n",
    "    else:\n",
    "        return False\n",
    "\n",
    "isPlaylist(url1)\n",
    "# isPlaylist(url2)"
   ]
  },
  {
   "cell_type": "code",
   "execution_count": null,
   "metadata": {},
   "outputs": [],
   "source": []
  }
 ],
 "metadata": {
  "kernelspec": {
   "display_name": "base",
   "language": "python",
   "name": "python3"
  },
  "language_info": {
   "codemirror_mode": {
    "name": "ipython",
    "version": 3
   },
   "file_extension": ".py",
   "mimetype": "text/x-python",
   "name": "python",
   "nbconvert_exporter": "python",
   "pygments_lexer": "ipython3",
   "version": "3.11.7"
  }
 },
 "nbformat": 4,
 "nbformat_minor": 2
}
