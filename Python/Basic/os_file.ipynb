{
 "cells": [
  {
   "cell_type": "markdown",
   "metadata": {},
   "source": [
    "# 獲取USER目錄"
   ]
  },
  {
   "cell_type": "code",
   "execution_count": 1,
   "metadata": {},
   "outputs": [
    {
     "name": "stdout",
     "output_type": "stream",
     "text": [
      "C:\\Users\\arif1\n"
     ]
    }
   ],
   "source": [
    "from os.path import expanduser\n",
    "home_directory = expanduser(\"~\")\n",
    "print(home_directory)"
   ]
  },
  {
   "cell_type": "code",
   "execution_count": 2,
   "metadata": {},
   "outputs": [
    {
     "name": "stdout",
     "output_type": "stream",
     "text": [
      "C:\\Users\\arif1\n",
      "C:\\Users\\arif1\\newPathName\n"
     ]
    }
   ],
   "source": [
    "from os.path import expanduser, join\n",
    "home_directory = expanduser(\"~\")\n",
    "new_directory = join(home_directory, 'newPathName')\n",
    "print(home_directory)\n",
    "print(new_directory)"
   ]
  }
 ],
 "metadata": {
  "kernelspec": {
   "display_name": "base",
   "language": "python",
   "name": "python3"
  },
  "language_info": {
   "codemirror_mode": {
    "name": "ipython",
    "version": 3
   },
   "file_extension": ".py",
   "mimetype": "text/x-python",
   "name": "python",
   "nbconvert_exporter": "python",
   "pygments_lexer": "ipython3",
   "version": "3.11.7"
  }
 },
 "nbformat": 4,
 "nbformat_minor": 2
}
